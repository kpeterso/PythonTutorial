{
 "cells": [
  {
   "cell_type": "markdown",
   "metadata": {},
   "source": [
    "# Python Tutorial\n",
    "\n",
    "The purpose of this file is to be a tutorial on Python, Numpy, Pandas, Scikit-Learn, and Scipy. These libraries allow you to do any kind of analysis you can think of. \n",
    "\n",
    "There is considerable documentation on each of the libraries' websites, just Google the library name and the question/error you are looking for."
   ]
  },
  {
   "cell_type": "markdown",
   "metadata": {},
   "source": [
    "## Part 1: Installing Jupyter Notebook on you computer"
   ]
  },
  {
   "cell_type": "markdown",
   "metadata": {},
   "source": [
    "Jupiter Notebook is a simple progtramming interface that can be installed on your work computer.\n",
    "\n",
    "Go to this link:\n",
    "https://sourceforge.net/projects/winpython/files/latest/download?source=files"
   ]
  },
  {
   "cell_type": "markdown",
   "metadata": {},
   "source": [
    "Save the file to your D: drive and run it. When the program asks, create a new folder on your D: drive (mine is called Winpython) and install there. Do not try to install on the C drive.\n",
    "\n",
    "This should have Pandas, scikit-learn, and numpy pre-installed."
   ]
  },
  {
   "cell_type": "markdown",
   "metadata": {},
   "source": [
    "## Part 2: Opening this file in Jupyter Notebook"
   ]
  },
  {
   "cell_type": "markdown",
   "metadata": {},
   "source": [
    "If you are still reading this on Github, download this file and put it into the folder with Winpython. You can download the "
   ]
  }
 ],
 "metadata": {
  "kernelspec": {
   "display_name": "Python 3",
   "language": "python",
   "name": "python3"
  },
  "language_info": {
   "codemirror_mode": {
    "name": "ipython",
    "version": 3
   },
   "file_extension": ".py",
   "mimetype": "text/x-python",
   "name": "python",
   "nbconvert_exporter": "python",
   "pygments_lexer": "ipython3",
   "version": "3.5.3"
  }
 },
 "nbformat": 4,
 "nbformat_minor": 2
}
